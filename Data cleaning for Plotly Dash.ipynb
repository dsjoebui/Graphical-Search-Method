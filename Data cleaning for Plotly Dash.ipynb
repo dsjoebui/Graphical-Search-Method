{
 "cells": [
  {
   "cell_type": "markdown",
   "id": "424cf89d",
   "metadata": {},
   "source": [
    "# Import libraries"
   ]
  },
  {
   "cell_type": "code",
   "execution_count": 1,
   "id": "6f487580",
   "metadata": {},
   "outputs": [],
   "source": [
    "import pandas as pd\n",
    "import numpy as np\n",
    "\n",
    "from sentence_transformers import SentenceTransformer\n",
    "from sklearn.metrics.pairwise import cosine_similarity\n",
    "\n",
    "import torch\n",
    "import re"
   ]
  },
  {
   "cell_type": "markdown",
   "id": "c2c99f85",
   "metadata": {},
   "source": [
    "# Append all the webscraped files to one single dataframe"
   ]
  },
  {
   "cell_type": "code",
   "execution_count": 2,
   "id": "0811258e",
   "metadata": {},
   "outputs": [],
   "source": [
    "# load/read in all csv + txt files into a list\n",
    "timeperiods = [\n",
    "              '21_05to09', '21_01to04',\n",
    "              '20_08to12', '20_04to7', '20_01to03',\n",
    "              '19_08to12', '19_04to7', '19_01to03',\n",
    "              '18_08to12', '18_04to7', '18_01to03',\n",
    "              '17_08to12', '17_04to7', '17_01to03',\n",
    "              '16_08to12', '16_04to7', '16_01to03',\n",
    "              '15_08to12', '15_04to7', '15_01to03',\n",
    "              '14_08to12', '14_04to7', '14_01to03',\n",
    "              '13_08to12', '13_04to7', '13_01to03',\n",
    "              '12_08to12', '12_04to7', '12_01to03',\n",
    "              '11_08to12', '11_04to7', '11_01to03'\n",
    "]\n",
    "\n",
    "csvfiles = []\n",
    "txtfiles = []\n",
    "for timeperiod in timeperiods:\n",
    "    \n",
    "    csvfile = r'../Graphical Search Method/webscraped_data/' + timeperiod + '_pubmed_scrape.csv'\n",
    "    txtfile = r'../Graphical Search Method/webscraped_data/' + timeperiod + '_doilist_pubmed_scraped.txt'\n",
    "    csvfiles.append(csvfile)\n",
    "    txtfiles.append(txtfile)"
   ]
  },
  {
   "cell_type": "code",
   "execution_count": 3,
   "id": "9b6f0476",
   "metadata": {},
   "outputs": [
    {
     "data": {
      "text/plain": [
       "228498"
      ]
     },
     "execution_count": 3,
     "metadata": {},
     "output_type": "execute_result"
    }
   ],
   "source": [
    "# append all csv files into a single df (csvdf)\n",
    "csvdf = pd.DataFrame()\n",
    "for csvfile in csvfiles:\n",
    "    partcsvdf = pd.read_csv(csvfile)\n",
    "    csvdf = csvdf.append(partcsvdf)\n",
    "csvdf.shape[0]"
   ]
  },
  {
   "cell_type": "code",
   "execution_count": 4,
   "id": "decaf9a8",
   "metadata": {},
   "outputs": [
    {
     "data": {
      "text/plain": [
       "166885"
      ]
     },
     "execution_count": 4,
     "metadata": {},
     "output_type": "execute_result"
    }
   ],
   "source": [
    "# Drop duplicates of title in csvdf\n",
    "csvdf = csvdf.drop_duplicates(subset=['title'], keep='first')\n",
    "csvdf.shape[0]"
   ]
  },
  {
   "cell_type": "code",
   "execution_count": 5,
   "id": "5791f8aa",
   "metadata": {},
   "outputs": [
    {
     "data": {
      "text/plain": [
       "228475"
      ]
     },
     "execution_count": 5,
     "metadata": {},
     "output_type": "execute_result"
    }
   ],
   "source": [
    "# append all txt files into a single df (txtdf)\n",
    "txtdf = pd.DataFrame()\n",
    "for txtfile in txtfiles:\n",
    "    parttxtdf = pd.read_table(txtfile, sep=';;', engine='python')\n",
    "    txtdf = txtdf.append(parttxtdf)\n",
    "txtdf.shape[0]"
   ]
  },
  {
   "cell_type": "code",
   "execution_count": 6,
   "id": "048b2859",
   "metadata": {},
   "outputs": [
    {
     "data": {
      "text/plain": [
       "166846"
      ]
     },
     "execution_count": 6,
     "metadata": {},
     "output_type": "execute_result"
    }
   ],
   "source": [
    "# Drop duplicates of title in txtdf\n",
    "txtdf = txtdf.drop_duplicates(subset=['title'], keep='first')\n",
    "txtdf.shape[0]"
   ]
  },
  {
   "cell_type": "code",
   "execution_count": 7,
   "id": "d5b8afe3",
   "metadata": {},
   "outputs": [],
   "source": [
    "# merge csvdf and txtdf by title\n",
    "df = pd.DataFrame()\n",
    "df = pd.merge(csvdf, txtdf, how='inner', on = 'title')"
   ]
  },
  {
   "cell_type": "code",
   "execution_count": 8,
   "id": "13f1b653",
   "metadata": {},
   "outputs": [],
   "source": [
    "# save files just in case\n",
    "#np.savetxt('fulldoilist.txt', txtdf.values, delimiter=';;', fmt='%s', encoding='utf-8')\n",
    "#csvdf.to_csv('fullscrapelist.csv', encoding='utf-8', index=None)\n",
    "#df.to_pickle('fulldf.pkl')"
   ]
  },
  {
   "cell_type": "code",
   "execution_count": 9,
   "id": "e06375e1",
   "metadata": {},
   "outputs": [],
   "source": [
    "# load in saved fulldf\n",
    "fulldf = pd.read_pickle('fulldf.pkl')"
   ]
  },
  {
   "cell_type": "code",
   "execution_count": 10,
   "id": "b7e909b1",
   "metadata": {
    "scrolled": false
   },
   "outputs": [
    {
     "data": {
      "text/html": [
       "<div>\n",
       "<style scoped>\n",
       "    .dataframe tbody tr th:only-of-type {\n",
       "        vertical-align: middle;\n",
       "    }\n",
       "\n",
       "    .dataframe tbody tr th {\n",
       "        vertical-align: top;\n",
       "    }\n",
       "\n",
       "    .dataframe thead th {\n",
       "        text-align: right;\n",
       "    }\n",
       "</style>\n",
       "<table border=\"1\" class=\"dataframe\">\n",
       "  <thead>\n",
       "    <tr style=\"text-align: right;\">\n",
       "      <th></th>\n",
       "      <th>journal</th>\n",
       "      <th>title</th>\n",
       "      <th>date</th>\n",
       "      <th>authorslist</th>\n",
       "      <th>free</th>\n",
       "      <th>publicationtype</th>\n",
       "      <th>abstract</th>\n",
       "      <th>citednumber</th>\n",
       "      <th>doi</th>\n",
       "      <th>link</th>\n",
       "      <th>citeddoilist</th>\n",
       "    </tr>\n",
       "  </thead>\n",
       "  <tbody>\n",
       "    <tr>\n",
       "      <th>0</th>\n",
       "      <td>Cancer Immunol Immunother.</td>\n",
       "      <td>Immunotherapy in nonsmall-cell lung cancer: cu...</td>\n",
       "      <td>2021 May</td>\n",
       "      <td>['Elena María Brozos-Vázquez#', 'Roberto Díaz-...</td>\n",
       "      <td>\\n            \\n              Springer\\n      ...</td>\n",
       "      <td>Review</td>\n",
       "      <td>Immunotherapy has been one of the great advanc...</td>\n",
       "      <td>2</td>\n",
       "      <td>10.1007/s00262-020-02752-z.</td>\n",
       "      <td>https://pubmed.ncbi.nlm.nih.gov/33113004/</td>\n",
       "      <td>[' 10.1007/s00262-020-02752-z. Epub 2020 Oct 2...</td>\n",
       "    </tr>\n",
       "    <tr>\n",
       "      <th>1</th>\n",
       "      <td>Lancet.</td>\n",
       "      <td>Lung cancer</td>\n",
       "      <td>2021 Aug 7</td>\n",
       "      <td>['Alesha A Thai', 'Benjamin J Solomon', 'Lecia...</td>\n",
       "      <td>\\n            \\n              Elsevier Science...</td>\n",
       "      <td>Review</td>\n",
       "      <td>Lung cancer is one of the most frequently diag...</td>\n",
       "      <td>0</td>\n",
       "      <td>10.1016/S0140-6736(21)00312-3.</td>\n",
       "      <td>https://pubmed.ncbi.nlm.nih.gov/34273294/</td>\n",
       "      <td>[' 10.1177/0218492319881036. Epub 2019 Sep 30....</td>\n",
       "    </tr>\n",
       "    <tr>\n",
       "      <th>2</th>\n",
       "      <td>Cancer Immunol Immunother.</td>\n",
       "      <td>Comparative analysis of the tumor immune-micro...</td>\n",
       "      <td>2021 Jul</td>\n",
       "      <td>['Seung Geun Song', 'Sehui Kim', 'Jaemoon Koh'...</td>\n",
       "      <td>\\n            \\n              Springer\\n      ...</td>\n",
       "      <td>Comparative Study</td>\n",
       "      <td>To evaluate the characteristics of the tumor i...</td>\n",
       "      <td>1</td>\n",
       "      <td>10.1007/s00262-020-02840-0.</td>\n",
       "      <td>https://pubmed.ncbi.nlm.nih.gov/33420630/</td>\n",
       "      <td>[' 10.1007/s00262-020-02840-0. Epub 2021 Jan 9...</td>\n",
       "    </tr>\n",
       "    <tr>\n",
       "      <th>3</th>\n",
       "      <td>MMW Fortschr Med.</td>\n",
       "      <td>[Lung cancer reduction strategies]</td>\n",
       "      <td>2021 Jun</td>\n",
       "      <td>['Felix J F Herth']</td>\n",
       "      <td>\\n            \\n              Springer\\n      ...</td>\n",
       "      <td>Review</td>\n",
       "      <td>NaN</td>\n",
       "      <td>0</td>\n",
       "      <td>10.1007/s15006-021-9958-8.</td>\n",
       "      <td>https://pubmed.ncbi.nlm.nih.gov/34086233/</td>\n",
       "      <td>[' 10.3779/j.issn.1009-3419.2016.05.12.', ' 10...</td>\n",
       "    </tr>\n",
       "    <tr>\n",
       "      <th>4</th>\n",
       "      <td>Expert Rev Pharmacoecon Outcomes Res.</td>\n",
       "      <td>Economic analyses of immune-checkpoint inhibit...</td>\n",
       "      <td>2021 Jun</td>\n",
       "      <td>['Alain Vergnenegre', 'Christos Chouaid']</td>\n",
       "      <td>\\n            \\n              Taylor &amp; Francis...</td>\n",
       "      <td>Review</td>\n",
       "      <td>Total lung-cancer-management costs are increas...</td>\n",
       "      <td>0</td>\n",
       "      <td>10.1080/14737167.2021.1863790.</td>\n",
       "      <td>https://pubmed.ncbi.nlm.nih.gov/33306411/</td>\n",
       "      <td>[' 10.1371/journal.pone.0238536. eCollection 2...</td>\n",
       "    </tr>\n",
       "    <tr>\n",
       "      <th>...</th>\n",
       "      <td>...</td>\n",
       "      <td>...</td>\n",
       "      <td>...</td>\n",
       "      <td>...</td>\n",
       "      <td>...</td>\n",
       "      <td>...</td>\n",
       "      <td>...</td>\n",
       "      <td>...</td>\n",
       "      <td>...</td>\n",
       "      <td>...</td>\n",
       "      <td>...</td>\n",
       "    </tr>\n",
       "    <tr>\n",
       "      <th>166408</th>\n",
       "      <td>Prog Mol Biol Transl Sci.</td>\n",
       "      <td>Cell delivery of therapeutic nanoparticles</td>\n",
       "      <td>2011</td>\n",
       "      <td>['JoEllyn McMillan', 'Elena Batrakova', 'Howar...</td>\n",
       "      <td>Free PMC article</td>\n",
       "      <td>NaN</td>\n",
       "      <td>Nanomedicine seeks to manufacture drugs and ot...</td>\n",
       "      <td>29</td>\n",
       "      <td>10.1016/B978-0-12-416020-0.00014-0.</td>\n",
       "      <td>https://pubmed.ncbi.nlm.nih.gov/22093229/</td>\n",
       "      <td>[' 10.1016/B978-0-12-416020-0.00014-0.', ' 10....</td>\n",
       "    </tr>\n",
       "    <tr>\n",
       "      <th>166409</th>\n",
       "      <td>Med Phys.</td>\n",
       "      <td>Comparison of scatter rejection and low-contra...</td>\n",
       "      <td>2011 Jan</td>\n",
       "      <td>['Xinming Liu', 'Chris C Shaw', 'Chao-Jen Lai'...</td>\n",
       "      <td>Free PMC article</td>\n",
       "      <td>Comparative Study</td>\n",
       "      <td>To investigate and compare the scatter rejecti...</td>\n",
       "      <td>2</td>\n",
       "      <td>10.1118/1.3519903.</td>\n",
       "      <td>https://pubmed.ncbi.nlm.nih.gov/21361171/</td>\n",
       "      <td>[' 10.1118/1.3519903.', ' 10.1088/0031-9155/59...</td>\n",
       "    </tr>\n",
       "    <tr>\n",
       "      <th>166410</th>\n",
       "      <td>Chem Res Toxicol.</td>\n",
       "      <td>Analysis of acrolein-derived 1,N2-propanodeoxy...</td>\n",
       "      <td>2011 Jan 14</td>\n",
       "      <td>['Siyi Zhang', 'Silvia Balbo', 'Mingyao Wang',...</td>\n",
       "      <td>Free PMC article</td>\n",
       "      <td>NaN</td>\n",
       "      <td>(6R/S)-3-(2'-deoxyribos-1'-yl)-5,6,7,8-tetrahy...</td>\n",
       "      <td>21</td>\n",
       "      <td>10.1021/tx100321y.</td>\n",
       "      <td>https://pubmed.ncbi.nlm.nih.gov/21090699/</td>\n",
       "      <td>[' 10.1021/tx100321y. Epub 2010 Nov 22.', ' 10...</td>\n",
       "    </tr>\n",
       "    <tr>\n",
       "      <th>166411</th>\n",
       "      <td>Circulation.</td>\n",
       "      <td>Heart disease and stroke statistics--2011 upda...</td>\n",
       "      <td>2011 Feb 1</td>\n",
       "      <td>['Véronique L Roger', 'Alan S Go', 'Donald M L...</td>\n",
       "      <td>Free PMC article</td>\n",
       "      <td>NaN</td>\n",
       "      <td>Each year, the American Heart Association (AHA...</td>\n",
       "      <td>1,808</td>\n",
       "      <td>10.1161/CIR.0b013e3182009701.</td>\n",
       "      <td>https://pubmed.ncbi.nlm.nih.gov/21160056/</td>\n",
       "      <td>[' 10.1161/CIR.0b013e3182456d46.', ' 10.1161/C...</td>\n",
       "    </tr>\n",
       "    <tr>\n",
       "      <th>166412</th>\n",
       "      <td>N Engl J Med.</td>\n",
       "      <td>Diabetes mellitus, fasting glucose, and risk o...</td>\n",
       "      <td>2011 Mar 3</td>\n",
       "      <td>['Sreenivasa Rao Kondapally Seshasai', 'Stephe...</td>\n",
       "      <td>Free PMC article</td>\n",
       "      <td>NaN</td>\n",
       "      <td>The extent to which diabetes mellitus or hyper...</td>\n",
       "      <td>793</td>\n",
       "      <td>10.1056/NEJMoa1008862.</td>\n",
       "      <td>https://pubmed.ncbi.nlm.nih.gov/21366474/</td>\n",
       "      <td>[' 10.1056/NEJMoa1008862.', ' 10.1007/s00125-0...</td>\n",
       "    </tr>\n",
       "  </tbody>\n",
       "</table>\n",
       "<p>166413 rows × 11 columns</p>\n",
       "</div>"
      ],
      "text/plain": [
       "                                      journal  \\\n",
       "0                  Cancer Immunol Immunother.   \n",
       "1                                     Lancet.   \n",
       "2                  Cancer Immunol Immunother.   \n",
       "3                           MMW Fortschr Med.   \n",
       "4       Expert Rev Pharmacoecon Outcomes Res.   \n",
       "...                                       ...   \n",
       "166408              Prog Mol Biol Transl Sci.   \n",
       "166409                              Med Phys.   \n",
       "166410                      Chem Res Toxicol.   \n",
       "166411                           Circulation.   \n",
       "166412                          N Engl J Med.   \n",
       "\n",
       "                                                    title         date  \\\n",
       "0       Immunotherapy in nonsmall-cell lung cancer: cu...     2021 May   \n",
       "1                                             Lung cancer   2021 Aug 7   \n",
       "2       Comparative analysis of the tumor immune-micro...     2021 Jul   \n",
       "3                      [Lung cancer reduction strategies]     2021 Jun   \n",
       "4       Economic analyses of immune-checkpoint inhibit...     2021 Jun   \n",
       "...                                                   ...          ...   \n",
       "166408         Cell delivery of therapeutic nanoparticles         2011   \n",
       "166409  Comparison of scatter rejection and low-contra...     2011 Jan   \n",
       "166410  Analysis of acrolein-derived 1,N2-propanodeoxy...  2011 Jan 14   \n",
       "166411  Heart disease and stroke statistics--2011 upda...   2011 Feb 1   \n",
       "166412  Diabetes mellitus, fasting glucose, and risk o...   2011 Mar 3   \n",
       "\n",
       "                                              authorslist  \\\n",
       "0       ['Elena María Brozos-Vázquez#', 'Roberto Díaz-...   \n",
       "1       ['Alesha A Thai', 'Benjamin J Solomon', 'Lecia...   \n",
       "2       ['Seung Geun Song', 'Sehui Kim', 'Jaemoon Koh'...   \n",
       "3                                     ['Felix J F Herth']   \n",
       "4               ['Alain Vergnenegre', 'Christos Chouaid']   \n",
       "...                                                   ...   \n",
       "166408  ['JoEllyn McMillan', 'Elena Batrakova', 'Howar...   \n",
       "166409  ['Xinming Liu', 'Chris C Shaw', 'Chao-Jen Lai'...   \n",
       "166410  ['Siyi Zhang', 'Silvia Balbo', 'Mingyao Wang',...   \n",
       "166411  ['Véronique L Roger', 'Alan S Go', 'Donald M L...   \n",
       "166412  ['Sreenivasa Rao Kondapally Seshasai', 'Stephe...   \n",
       "\n",
       "                                                     free    publicationtype  \\\n",
       "0       \\n            \\n              Springer\\n      ...             Review   \n",
       "1       \\n            \\n              Elsevier Science...             Review   \n",
       "2       \\n            \\n              Springer\\n      ...  Comparative Study   \n",
       "3       \\n            \\n              Springer\\n      ...             Review   \n",
       "4       \\n            \\n              Taylor & Francis...             Review   \n",
       "...                                                   ...                ...   \n",
       "166408                                   Free PMC article                NaN   \n",
       "166409                                   Free PMC article  Comparative Study   \n",
       "166410                                   Free PMC article                NaN   \n",
       "166411                                   Free PMC article                NaN   \n",
       "166412                                   Free PMC article                NaN   \n",
       "\n",
       "                                                 abstract citednumber  \\\n",
       "0       Immunotherapy has been one of the great advanc...           2   \n",
       "1       Lung cancer is one of the most frequently diag...           0   \n",
       "2       To evaluate the characteristics of the tumor i...           1   \n",
       "3                                                     NaN           0   \n",
       "4       Total lung-cancer-management costs are increas...           0   \n",
       "...                                                   ...         ...   \n",
       "166408  Nanomedicine seeks to manufacture drugs and ot...          29   \n",
       "166409  To investigate and compare the scatter rejecti...           2   \n",
       "166410  (6R/S)-3-(2'-deoxyribos-1'-yl)-5,6,7,8-tetrahy...          21   \n",
       "166411  Each year, the American Heart Association (AHA...       1,808   \n",
       "166412  The extent to which diabetes mellitus or hyper...         793   \n",
       "\n",
       "                                        doi  \\\n",
       "0               10.1007/s00262-020-02752-z.   \n",
       "1            10.1016/S0140-6736(21)00312-3.   \n",
       "2               10.1007/s00262-020-02840-0.   \n",
       "3                10.1007/s15006-021-9958-8.   \n",
       "4            10.1080/14737167.2021.1863790.   \n",
       "...                                     ...   \n",
       "166408  10.1016/B978-0-12-416020-0.00014-0.   \n",
       "166409                   10.1118/1.3519903.   \n",
       "166410                   10.1021/tx100321y.   \n",
       "166411        10.1161/CIR.0b013e3182009701.   \n",
       "166412               10.1056/NEJMoa1008862.   \n",
       "\n",
       "                                             link  \\\n",
       "0       https://pubmed.ncbi.nlm.nih.gov/33113004/   \n",
       "1       https://pubmed.ncbi.nlm.nih.gov/34273294/   \n",
       "2       https://pubmed.ncbi.nlm.nih.gov/33420630/   \n",
       "3       https://pubmed.ncbi.nlm.nih.gov/34086233/   \n",
       "4       https://pubmed.ncbi.nlm.nih.gov/33306411/   \n",
       "...                                           ...   \n",
       "166408  https://pubmed.ncbi.nlm.nih.gov/22093229/   \n",
       "166409  https://pubmed.ncbi.nlm.nih.gov/21361171/   \n",
       "166410  https://pubmed.ncbi.nlm.nih.gov/21090699/   \n",
       "166411  https://pubmed.ncbi.nlm.nih.gov/21160056/   \n",
       "166412  https://pubmed.ncbi.nlm.nih.gov/21366474/   \n",
       "\n",
       "                                             citeddoilist  \n",
       "0       [' 10.1007/s00262-020-02752-z. Epub 2020 Oct 2...  \n",
       "1       [' 10.1177/0218492319881036. Epub 2019 Sep 30....  \n",
       "2       [' 10.1007/s00262-020-02840-0. Epub 2021 Jan 9...  \n",
       "3       [' 10.3779/j.issn.1009-3419.2016.05.12.', ' 10...  \n",
       "4       [' 10.1371/journal.pone.0238536. eCollection 2...  \n",
       "...                                                   ...  \n",
       "166408  [' 10.1016/B978-0-12-416020-0.00014-0.', ' 10....  \n",
       "166409  [' 10.1118/1.3519903.', ' 10.1088/0031-9155/59...  \n",
       "166410  [' 10.1021/tx100321y. Epub 2010 Nov 22.', ' 10...  \n",
       "166411  [' 10.1161/CIR.0b013e3182456d46.', ' 10.1161/C...  \n",
       "166412  [' 10.1056/NEJMoa1008862.', ' 10.1007/s00125-0...  \n",
       "\n",
       "[166413 rows x 11 columns]"
      ]
     },
     "execution_count": 10,
     "metadata": {},
     "output_type": "execute_result"
    }
   ],
   "source": [
    "fulldf"
   ]
  },
  {
   "cell_type": "markdown",
   "id": "05747eb4",
   "metadata": {},
   "source": [
    "# Data Cleaning"
   ]
  },
  {
   "cell_type": "code",
   "execution_count": 11,
   "id": "7e37b82f",
   "metadata": {},
   "outputs": [],
   "source": [
    "# Create another copy for cleaning\n",
    "cleandf = fulldf.copy()"
   ]
  },
  {
   "cell_type": "code",
   "execution_count": 12,
   "id": "8195b8b3",
   "metadata": {},
   "outputs": [
    {
     "name": "stdout",
     "output_type": "stream",
     "text": [
      "262\n",
      "5451\n"
     ]
    }
   ],
   "source": [
    "### journal ###\n",
    "\n",
    "# remove Na values\n",
    "print(cleandf['journal'].isna().sum())\n",
    "print(len(cleandf['journal'].unique()))\n",
    "\n",
    "cleandf = cleandf[~cleandf['journal'].isna()]"
   ]
  },
  {
   "cell_type": "code",
   "execution_count": 13,
   "id": "8dc2475b",
   "metadata": {},
   "outputs": [
    {
     "name": "stdout",
     "output_type": "stream",
     "text": [
      "na sum:  0\n",
      "no months:  9976\n"
     ]
    }
   ],
   "source": [
    "### date ###\n",
    "\n",
    "# remove na values\n",
    "print('na sum: ', cleandf['date'].isna().sum())\n",
    "cleandf = cleandf[~cleandf['date'].isna()]\n",
    "\n",
    "\n",
    "# Dates have different formats, so extract year and month, then remake date column with specific format\n",
    "# create another column for year\n",
    "years = [str(x) for x in range(2010, 2022)]\n",
    "conditions = list(map(cleandf['date'].str.contains, years))\n",
    "cleandf['year'] = np.select(conditions, years, '')\n",
    "\n",
    "# create another column for month\n",
    "months = ['Jan', 'Feb', 'Mar', 'Apr', 'May', 'Jun', 'Jul', 'Aug', 'Sep', 'Oct', 'Nov', 'Dec']\n",
    "conditions = list(map(cleandf['date'].str.contains, months))\n",
    "cleandf['month'] = np.select(conditions, months, '')\n",
    "\n",
    "# remove rows with no month\n",
    "print('no months: ', cleandf[cleandf['month'] ==''].shape[0])\n",
    "cleandf = cleandf[cleandf['month'] != '']\n",
    "\n",
    "# combine year and month to recreate column: date in datetime format\n",
    "cleandf['date'] = cleandf['year'] + ' ' + cleandf['month']\n",
    "cleandf['date'] = pd.to_datetime(cleandf['date'])\n",
    "\n",
    "# remove dates that are not fully webscraped\n",
    "\n",
    "cleandf = cleandf[(cleandf['date'] != '2021-09-01')]\n",
    "cleandf = cleandf[(cleandf['date'] != '2021-10-01')]\n",
    "cleandf = cleandf[(cleandf['date'] != '2021-11-01')]\n",
    "cleandf = cleandf[(cleandf['date'] != '2021-12-01')]\n",
    "cleandf = cleandf[(cleandf['date'] != '2010-12-01')]\n",
    "\n",
    "# drop year and month column\n",
    "cleandf = cleandf.drop(['year', 'month'], axis=1)"
   ]
  },
  {
   "cell_type": "code",
   "execution_count": 14,
   "id": "41d83943",
   "metadata": {},
   "outputs": [
    {
     "data": {
      "text/plain": [
       "array([2021, 2020, 2019, 2017, 2018, 2016, 2015, 2014, 2013, 2012, 2011],\n",
       "      dtype=int64)"
      ]
     },
     "execution_count": 14,
     "metadata": {},
     "output_type": "execute_result"
    }
   ],
   "source": [
    "cleandf['date'].dt.year.unique()"
   ]
  },
  {
   "cell_type": "code",
   "execution_count": 15,
   "id": "17d5e5e5",
   "metadata": {},
   "outputs": [
    {
     "name": "stderr",
     "output_type": "stream",
     "text": [
      "<ipython-input-15-805a33709ccd>:4: FutureWarning: The default value of regex will change from True to False in a future version.\n",
      "  cleandf['authorslist'] = cleandf['authorslist'].str.replace('\\[', '').str.replace('\\]', '')\n"
     ]
    }
   ],
   "source": [
    "### authors ###\n",
    "\n",
    "# reformat string format\n",
    "cleandf['authorslist'] = cleandf['authorslist'].str.replace('\\[', '').str.replace('\\]', '')"
   ]
  },
  {
   "cell_type": "code",
   "execution_count": 16,
   "id": "18faf72f",
   "metadata": {},
   "outputs": [
    {
     "name": "stdout",
     "output_type": "stream",
     "text": [
      "154916\n",
      "4493\n"
     ]
    }
   ],
   "source": [
    "### Free ###\n",
    "\n",
    "# replace Na values with 'Free' (pubmed webscrape format)\n",
    "print(cleandf['free'].shape[0])\n",
    "print(cleandf['free'].isna().sum())\n",
    "cleandf['free'] = cleandf['free'].fillna('free')\n",
    "\n",
    "# change 'free' value to 'Free' and everything else is 'Paid'\n",
    "freelist = ['Free']\n",
    "conditions = list(map(cleandf['free'].str.contains, freelist))\n",
    "cleandf['free'] = np.select(conditions, freelist, 'Paid')"
   ]
  },
  {
   "cell_type": "code",
   "execution_count": 17,
   "id": "c6b6c184",
   "metadata": {},
   "outputs": [
    {
     "name": "stdout",
     "output_type": "stream",
     "text": [
      "['Review' 'Comparative Study' nan 'Multicenter Study'\n",
      " 'Observational Study' 'Comment' 'Randomized Controlled Trial'\n",
      " 'Case Reports' 'Meta-Analysis' 'Clinical Trial'\n",
      " 'Retraction of Publication' 'Published Erratum' 'Classical Article'\n",
      " 'Practice Guideline' 'Editorial' 'Guideline' 'Controlled Clinical Trial']\n"
     ]
    }
   ],
   "source": [
    "### Publication Type ###\n",
    "\n",
    "print(cleandf['publicationtype'].unique())\n",
    "\n",
    "# replace na values with 'Article' value (pubmed webscrape format)\n",
    "cleandf['publicationtype'] = cleandf['publicationtype'].fillna('Article')"
   ]
  },
  {
   "cell_type": "code",
   "execution_count": 18,
   "id": "cb6ea3c2",
   "metadata": {},
   "outputs": [],
   "source": [
    "### Abstract ###\n",
    "\n",
    "# remove na values\n",
    "cleandf['abstract'].isna().sum()\n",
    "cleandf = cleandf[~cleandf['abstract'].isna()]"
   ]
  },
  {
   "cell_type": "code",
   "execution_count": 19,
   "id": "066f2e59",
   "metadata": {},
   "outputs": [
    {
     "name": "stdout",
     "output_type": "stream",
     "text": [
      "0\n",
      "object\n"
     ]
    }
   ],
   "source": [
    "### citednumber ###\n",
    "\n",
    "# na values\n",
    "print(cleandf['citednumber'].isnull().sum())\n",
    "\n",
    "# convert object dtype to int\n",
    "print(cleandf['citednumber'].dtype)\n",
    "\n",
    "intcitednumberlist = []\n",
    "for i in cleandf['citednumber']:\n",
    "    citednumber = int(str(i).replace(',', '')) # remove comma to change str to int\n",
    "    intcitednumberlist.append(citednumber)\n",
    "cleandf['citednumber'] = intcitednumberlist"
   ]
  },
  {
   "cell_type": "code",
   "execution_count": 20,
   "id": "d57b527f",
   "metadata": {},
   "outputs": [
    {
     "name": "stdout",
     "output_type": "stream",
     "text": [
      "7041\n"
     ]
    }
   ],
   "source": [
    "### doi ###\n",
    "\n",
    "# remove na values\n",
    "print(cleandf['doi'].isna().sum())\n",
    "cleandf = cleandf[~cleandf['doi'].isna()]\n",
    "\n",
    "# drop duplicates of doi\n",
    "cleandf.drop_duplicates(subset=['doi'], keep='first', inplace=True)\n",
    "\n",
    "# remove period at the end of doi\n",
    "newdoilist = []\n",
    "for i in cleandf['doi']:\n",
    "    if i[-1] == '.':\n",
    "        newdoi = i[:-1]\n",
    "    else:\n",
    "        newdoi = i\n",
    "    newdoilist.append(newdoi)\n",
    "cleandf['doi'] = newdoilist"
   ]
  },
  {
   "cell_type": "code",
   "execution_count": 21,
   "id": "b39d151a",
   "metadata": {},
   "outputs": [
    {
     "name": "stderr",
     "output_type": "stream",
     "text": [
      "<ipython-input-21-e0740672ee48>:5: FutureWarning: The default value of regex will change from True to False in a future version.\n",
      "  for i, b in zip(cleandf['citeddoilist'].str.replace('\\[', '').str.replace('\\]', '').str.replace('\\'', ''), cleandf['doi']):\n"
     ]
    }
   ],
   "source": [
    "### citeddoilist ###\n",
    "\n",
    "# reformat citeddoilist (webscraping errors)\n",
    "fullformattedlist = []\n",
    "for i, b in zip(cleandf['citeddoilist'].str.replace('\\[', '').str.replace('\\]', '').str.replace('\\'', ''), cleandf['doi']):\n",
    "    doilist = i.split(',')\n",
    "    formattedlist = []\n",
    "    for y in doilist:\n",
    "        doi = y.strip().split('. ')[0]\n",
    "        # remove period at end if present\n",
    "        try:\n",
    "            if doi[-1] == '.':\n",
    "                newdoi = doi[:-1]\n",
    "            else:\n",
    "                newdoi = doi\n",
    "        except: # if there are no cited doi\n",
    "            newdoi = doi\n",
    "            \n",
    "        try: \n",
    "            if newdoi[0].isdigit() and '/' in newdoi and b not in newdoi:\n",
    "                formattedlist.append(newdoi)\n",
    "            else:\n",
    "                pass\n",
    "        except: # if there are no cited doi\n",
    "            pass\n",
    "\n",
    "    fullformattedlist.append(formattedlist)\n",
    "cleandf['citeddoilist'] = fullformattedlist"
   ]
  },
  {
   "cell_type": "markdown",
   "id": "2c94e5bd",
   "metadata": {},
   "source": [
    "### Final cleaning check"
   ]
  },
  {
   "cell_type": "code",
   "execution_count": 22,
   "id": "1d8c36e6",
   "metadata": {},
   "outputs": [
    {
     "data": {
      "text/plain": [
       "journal            0\n",
       "title              0\n",
       "date               0\n",
       "authorslist        0\n",
       "free               0\n",
       "publicationtype    0\n",
       "abstract           0\n",
       "citednumber        0\n",
       "doi                0\n",
       "link               0\n",
       "citeddoilist       0\n",
       "dtype: int64"
      ]
     },
     "execution_count": 22,
     "metadata": {},
     "output_type": "execute_result"
    }
   ],
   "source": [
    "cleandf.isna().sum()"
   ]
  },
  {
   "cell_type": "code",
   "execution_count": 23,
   "id": "03db1991",
   "metadata": {},
   "outputs": [
    {
     "data": {
      "text/plain": [
       "journal                    object\n",
       "title                      object\n",
       "date               datetime64[ns]\n",
       "authorslist                object\n",
       "free                       object\n",
       "publicationtype            object\n",
       "abstract                   object\n",
       "citednumber                 int64\n",
       "doi                        object\n",
       "link                       object\n",
       "citeddoilist               object\n",
       "dtype: object"
      ]
     },
     "execution_count": 23,
     "metadata": {},
     "output_type": "execute_result"
    }
   ],
   "source": [
    "cleandf.dtypes"
   ]
  },
  {
   "cell_type": "code",
   "execution_count": 24,
   "id": "a04ec8df",
   "metadata": {},
   "outputs": [],
   "source": [
    "cleandf.reset_index(drop=True, inplace=True)"
   ]
  },
  {
   "cell_type": "code",
   "execution_count": 25,
   "id": "d5190ce5",
   "metadata": {},
   "outputs": [
    {
     "data": {
      "text/html": [
       "<div>\n",
       "<style scoped>\n",
       "    .dataframe tbody tr th:only-of-type {\n",
       "        vertical-align: middle;\n",
       "    }\n",
       "\n",
       "    .dataframe tbody tr th {\n",
       "        vertical-align: top;\n",
       "    }\n",
       "\n",
       "    .dataframe thead th {\n",
       "        text-align: right;\n",
       "    }\n",
       "</style>\n",
       "<table border=\"1\" class=\"dataframe\">\n",
       "  <thead>\n",
       "    <tr style=\"text-align: right;\">\n",
       "      <th></th>\n",
       "      <th>journal</th>\n",
       "      <th>title</th>\n",
       "      <th>date</th>\n",
       "      <th>authorslist</th>\n",
       "      <th>free</th>\n",
       "      <th>publicationtype</th>\n",
       "      <th>abstract</th>\n",
       "      <th>citednumber</th>\n",
       "      <th>doi</th>\n",
       "      <th>link</th>\n",
       "      <th>citeddoilist</th>\n",
       "    </tr>\n",
       "  </thead>\n",
       "  <tbody>\n",
       "    <tr>\n",
       "      <th>0</th>\n",
       "      <td>Cancer Immunol Immunother.</td>\n",
       "      <td>Immunotherapy in nonsmall-cell lung cancer: cu...</td>\n",
       "      <td>2021-05-01</td>\n",
       "      <td>'Elena María Brozos-Vázquez#', 'Roberto Díaz-P...</td>\n",
       "      <td>Paid</td>\n",
       "      <td>Review</td>\n",
       "      <td>Immunotherapy has been one of the great advanc...</td>\n",
       "      <td>2</td>\n",
       "      <td>10.1007/s00262-020-02752-z</td>\n",
       "      <td>https://pubmed.ncbi.nlm.nih.gov/33113004/</td>\n",
       "      <td>[10.3390/cancers13071675, 10.1177/175883592199...</td>\n",
       "    </tr>\n",
       "    <tr>\n",
       "      <th>1</th>\n",
       "      <td>Lancet.</td>\n",
       "      <td>Lung cancer</td>\n",
       "      <td>2021-08-01</td>\n",
       "      <td>'Alesha A Thai', 'Benjamin J Solomon', 'Lecia ...</td>\n",
       "      <td>Paid</td>\n",
       "      <td>Review</td>\n",
       "      <td>Lung cancer is one of the most frequently diag...</td>\n",
       "      <td>0</td>\n",
       "      <td>10.1016/S0140-6736(21)00312-3</td>\n",
       "      <td>https://pubmed.ncbi.nlm.nih.gov/34273294/</td>\n",
       "      <td>[10.1177/0218492319881036, 10.1007/s12094-009-...</td>\n",
       "    </tr>\n",
       "    <tr>\n",
       "      <th>2</th>\n",
       "      <td>Cancer Immunol Immunother.</td>\n",
       "      <td>Comparative analysis of the tumor immune-micro...</td>\n",
       "      <td>2021-07-01</td>\n",
       "      <td>'Seung Geun Song', 'Sehui Kim', 'Jaemoon Koh',...</td>\n",
       "      <td>Paid</td>\n",
       "      <td>Comparative Study</td>\n",
       "      <td>To evaluate the characteristics of the tumor i...</td>\n",
       "      <td>1</td>\n",
       "      <td>10.1007/s00262-020-02840-0</td>\n",
       "      <td>https://pubmed.ncbi.nlm.nih.gov/33420630/</td>\n",
       "      <td>[10.3389/fimmu.2021.693709]</td>\n",
       "    </tr>\n",
       "    <tr>\n",
       "      <th>3</th>\n",
       "      <td>Expert Rev Pharmacoecon Outcomes Res.</td>\n",
       "      <td>Economic analyses of immune-checkpoint inhibit...</td>\n",
       "      <td>2021-06-01</td>\n",
       "      <td>'Alain Vergnenegre', 'Christos Chouaid'</td>\n",
       "      <td>Paid</td>\n",
       "      <td>Review</td>\n",
       "      <td>Total lung-cancer-management costs are increas...</td>\n",
       "      <td>0</td>\n",
       "      <td>10.1080/14737167.2021.1863790</td>\n",
       "      <td>https://pubmed.ncbi.nlm.nih.gov/33306411/</td>\n",
       "      <td>[10.1371/journal.pone.0238536, 10.1080/1472821...</td>\n",
       "    </tr>\n",
       "    <tr>\n",
       "      <th>4</th>\n",
       "      <td>Ann Thorac Surg.</td>\n",
       "      <td>Organized Lung Cancer Screening Pilot: Informi...</td>\n",
       "      <td>2021-06-01</td>\n",
       "      <td>'Gail E Darling', 'Martin C Tammemägi', 'Heidi...</td>\n",
       "      <td>Paid</td>\n",
       "      <td>Article</td>\n",
       "      <td>Lung cancer is the leading cause of cancer dea...</td>\n",
       "      <td>3</td>\n",
       "      <td>10.1016/j.athoracsur.2020.07.051</td>\n",
       "      <td>https://pubmed.ncbi.nlm.nih.gov/33039364/</td>\n",
       "      <td>[10.3390/curroncol28030181, 10.1371/journal.po...</td>\n",
       "    </tr>\n",
       "    <tr>\n",
       "      <th>...</th>\n",
       "      <td>...</td>\n",
       "      <td>...</td>\n",
       "      <td>...</td>\n",
       "      <td>...</td>\n",
       "      <td>...</td>\n",
       "      <td>...</td>\n",
       "      <td>...</td>\n",
       "      <td>...</td>\n",
       "      <td>...</td>\n",
       "      <td>...</td>\n",
       "      <td>...</td>\n",
       "    </tr>\n",
       "    <tr>\n",
       "      <th>141342</th>\n",
       "      <td>Bioorg Med Chem.</td>\n",
       "      <td>Synthesis of a covalent gemcitabine-(carbamate...</td>\n",
       "      <td>2011-01-01</td>\n",
       "      <td>'C P Coyne', 'Toni Jones', 'Todd Pharr'</td>\n",
       "      <td>Paid</td>\n",
       "      <td>Article</td>\n",
       "      <td>Gemcitabine is a potent chemotherapeutic that ...</td>\n",
       "      <td>13</td>\n",
       "      <td>10.1016/j.bmc.2010.11.046</td>\n",
       "      <td>https://pubmed.ncbi.nlm.nih.gov/21169024/</td>\n",
       "      <td>[10.1128/JVI.01360-16, 10.2147/DDDT.S102075, 1...</td>\n",
       "    </tr>\n",
       "    <tr>\n",
       "      <th>141343</th>\n",
       "      <td>Med Phys.</td>\n",
       "      <td>Comparison of scatter rejection and low-contra...</td>\n",
       "      <td>2011-01-01</td>\n",
       "      <td>'Xinming Liu', 'Chris C Shaw', 'Chao-Jen Lai',...</td>\n",
       "      <td>Free</td>\n",
       "      <td>Comparative Study</td>\n",
       "      <td>To investigate and compare the scatter rejecti...</td>\n",
       "      <td>2</td>\n",
       "      <td>10.1118/1.3519903</td>\n",
       "      <td>https://pubmed.ncbi.nlm.nih.gov/21361171/</td>\n",
       "      <td>[10.1088/0031-9155/59/5/1305, 10.1118/1.3659709]</td>\n",
       "    </tr>\n",
       "    <tr>\n",
       "      <th>141344</th>\n",
       "      <td>Chem Res Toxicol.</td>\n",
       "      <td>Analysis of acrolein-derived 1,N2-propanodeoxy...</td>\n",
       "      <td>2011-01-01</td>\n",
       "      <td>'Siyi Zhang', 'Silvia Balbo', 'Mingyao Wang', ...</td>\n",
       "      <td>Free</td>\n",
       "      <td>Article</td>\n",
       "      <td>(6R/S)-3-(2'-deoxyribos-1'-yl)-5,6,7,8-tetrahy...</td>\n",
       "      <td>21</td>\n",
       "      <td>10.1021/tx100321y</td>\n",
       "      <td>https://pubmed.ncbi.nlm.nih.gov/21090699/</td>\n",
       "      <td>[10.1021/acs.chemrestox.0c00265, 10.1021/acs.c...</td>\n",
       "    </tr>\n",
       "    <tr>\n",
       "      <th>141345</th>\n",
       "      <td>Circulation.</td>\n",
       "      <td>Heart disease and stroke statistics--2011 upda...</td>\n",
       "      <td>2011-02-01</td>\n",
       "      <td>'Véronique L Roger', 'Alan S Go', 'Donald M Ll...</td>\n",
       "      <td>Free</td>\n",
       "      <td>Article</td>\n",
       "      <td>Each year, the American Heart Association (AHA...</td>\n",
       "      <td>1808</td>\n",
       "      <td>10.1161/CIR.0b013e3182009701</td>\n",
       "      <td>https://pubmed.ncbi.nlm.nih.gov/21160056/</td>\n",
       "      <td>[10.1161/CIR.0b013e3182456d46, 10.1161/CIRCULA...</td>\n",
       "    </tr>\n",
       "    <tr>\n",
       "      <th>141346</th>\n",
       "      <td>N Engl J Med.</td>\n",
       "      <td>Diabetes mellitus, fasting glucose, and risk o...</td>\n",
       "      <td>2011-03-01</td>\n",
       "      <td>'Sreenivasa Rao Kondapally Seshasai', 'Stephen...</td>\n",
       "      <td>Free</td>\n",
       "      <td>Article</td>\n",
       "      <td>The extent to which diabetes mellitus or hyper...</td>\n",
       "      <td>793</td>\n",
       "      <td>10.1056/NEJMoa1008862</td>\n",
       "      <td>https://pubmed.ncbi.nlm.nih.gov/21366474/</td>\n",
       "      <td>[10.1007/s00125-021-05529-w, 10.3389/fgene.202...</td>\n",
       "    </tr>\n",
       "  </tbody>\n",
       "</table>\n",
       "<p>141347 rows × 11 columns</p>\n",
       "</div>"
      ],
      "text/plain": [
       "                                      journal  \\\n",
       "0                  Cancer Immunol Immunother.   \n",
       "1                                     Lancet.   \n",
       "2                  Cancer Immunol Immunother.   \n",
       "3       Expert Rev Pharmacoecon Outcomes Res.   \n",
       "4                            Ann Thorac Surg.   \n",
       "...                                       ...   \n",
       "141342                       Bioorg Med Chem.   \n",
       "141343                              Med Phys.   \n",
       "141344                      Chem Res Toxicol.   \n",
       "141345                           Circulation.   \n",
       "141346                          N Engl J Med.   \n",
       "\n",
       "                                                    title       date  \\\n",
       "0       Immunotherapy in nonsmall-cell lung cancer: cu... 2021-05-01   \n",
       "1                                             Lung cancer 2021-08-01   \n",
       "2       Comparative analysis of the tumor immune-micro... 2021-07-01   \n",
       "3       Economic analyses of immune-checkpoint inhibit... 2021-06-01   \n",
       "4       Organized Lung Cancer Screening Pilot: Informi... 2021-06-01   \n",
       "...                                                   ...        ...   \n",
       "141342  Synthesis of a covalent gemcitabine-(carbamate... 2011-01-01   \n",
       "141343  Comparison of scatter rejection and low-contra... 2011-01-01   \n",
       "141344  Analysis of acrolein-derived 1,N2-propanodeoxy... 2011-01-01   \n",
       "141345  Heart disease and stroke statistics--2011 upda... 2011-02-01   \n",
       "141346  Diabetes mellitus, fasting glucose, and risk o... 2011-03-01   \n",
       "\n",
       "                                              authorslist  free  \\\n",
       "0       'Elena María Brozos-Vázquez#', 'Roberto Díaz-P...  Paid   \n",
       "1       'Alesha A Thai', 'Benjamin J Solomon', 'Lecia ...  Paid   \n",
       "2       'Seung Geun Song', 'Sehui Kim', 'Jaemoon Koh',...  Paid   \n",
       "3                 'Alain Vergnenegre', 'Christos Chouaid'  Paid   \n",
       "4       'Gail E Darling', 'Martin C Tammemägi', 'Heidi...  Paid   \n",
       "...                                                   ...   ...   \n",
       "141342            'C P Coyne', 'Toni Jones', 'Todd Pharr'  Paid   \n",
       "141343  'Xinming Liu', 'Chris C Shaw', 'Chao-Jen Lai',...  Free   \n",
       "141344  'Siyi Zhang', 'Silvia Balbo', 'Mingyao Wang', ...  Free   \n",
       "141345  'Véronique L Roger', 'Alan S Go', 'Donald M Ll...  Free   \n",
       "141346  'Sreenivasa Rao Kondapally Seshasai', 'Stephen...  Free   \n",
       "\n",
       "          publicationtype                                           abstract  \\\n",
       "0                  Review  Immunotherapy has been one of the great advanc...   \n",
       "1                  Review  Lung cancer is one of the most frequently diag...   \n",
       "2       Comparative Study  To evaluate the characteristics of the tumor i...   \n",
       "3                  Review  Total lung-cancer-management costs are increas...   \n",
       "4                 Article  Lung cancer is the leading cause of cancer dea...   \n",
       "...                   ...                                                ...   \n",
       "141342            Article  Gemcitabine is a potent chemotherapeutic that ...   \n",
       "141343  Comparative Study  To investigate and compare the scatter rejecti...   \n",
       "141344            Article  (6R/S)-3-(2'-deoxyribos-1'-yl)-5,6,7,8-tetrahy...   \n",
       "141345            Article  Each year, the American Heart Association (AHA...   \n",
       "141346            Article  The extent to which diabetes mellitus or hyper...   \n",
       "\n",
       "        citednumber                               doi  \\\n",
       "0                 2        10.1007/s00262-020-02752-z   \n",
       "1                 0     10.1016/S0140-6736(21)00312-3   \n",
       "2                 1        10.1007/s00262-020-02840-0   \n",
       "3                 0     10.1080/14737167.2021.1863790   \n",
       "4                 3  10.1016/j.athoracsur.2020.07.051   \n",
       "...             ...                               ...   \n",
       "141342           13         10.1016/j.bmc.2010.11.046   \n",
       "141343            2                 10.1118/1.3519903   \n",
       "141344           21                 10.1021/tx100321y   \n",
       "141345         1808      10.1161/CIR.0b013e3182009701   \n",
       "141346          793             10.1056/NEJMoa1008862   \n",
       "\n",
       "                                             link  \\\n",
       "0       https://pubmed.ncbi.nlm.nih.gov/33113004/   \n",
       "1       https://pubmed.ncbi.nlm.nih.gov/34273294/   \n",
       "2       https://pubmed.ncbi.nlm.nih.gov/33420630/   \n",
       "3       https://pubmed.ncbi.nlm.nih.gov/33306411/   \n",
       "4       https://pubmed.ncbi.nlm.nih.gov/33039364/   \n",
       "...                                           ...   \n",
       "141342  https://pubmed.ncbi.nlm.nih.gov/21169024/   \n",
       "141343  https://pubmed.ncbi.nlm.nih.gov/21361171/   \n",
       "141344  https://pubmed.ncbi.nlm.nih.gov/21090699/   \n",
       "141345  https://pubmed.ncbi.nlm.nih.gov/21160056/   \n",
       "141346  https://pubmed.ncbi.nlm.nih.gov/21366474/   \n",
       "\n",
       "                                             citeddoilist  \n",
       "0       [10.3390/cancers13071675, 10.1177/175883592199...  \n",
       "1       [10.1177/0218492319881036, 10.1007/s12094-009-...  \n",
       "2                             [10.3389/fimmu.2021.693709]  \n",
       "3       [10.1371/journal.pone.0238536, 10.1080/1472821...  \n",
       "4       [10.3390/curroncol28030181, 10.1371/journal.po...  \n",
       "...                                                   ...  \n",
       "141342  [10.1128/JVI.01360-16, 10.2147/DDDT.S102075, 1...  \n",
       "141343   [10.1088/0031-9155/59/5/1305, 10.1118/1.3659709]  \n",
       "141344  [10.1021/acs.chemrestox.0c00265, 10.1021/acs.c...  \n",
       "141345  [10.1161/CIR.0b013e3182456d46, 10.1161/CIRCULA...  \n",
       "141346  [10.1007/s00125-021-05529-w, 10.3389/fgene.202...  \n",
       "\n",
       "[141347 rows x 11 columns]"
      ]
     },
     "execution_count": 25,
     "metadata": {},
     "output_type": "execute_result"
    }
   ],
   "source": [
    "cleandf"
   ]
  },
  {
   "cell_type": "code",
   "execution_count": 26,
   "id": "ba207bb4",
   "metadata": {},
   "outputs": [],
   "source": [
    "# Save cleaned df version\n",
    "#cleandf.to_pickle('clean2df.pkl')"
   ]
  },
  {
   "cell_type": "markdown",
   "id": "c7a5e45c",
   "metadata": {},
   "source": [
    "### Final DataFrame for Plotly Dash"
   ]
  },
  {
   "cell_type": "code",
   "execution_count": 27,
   "id": "84e94523",
   "metadata": {},
   "outputs": [],
   "source": [
    "# note title and abstract aren't NLP cleaned here.\n",
    "# Instead, it will be cleaned with BERT tokenizer\n",
    "plotlydash = pd.read_pickle('clean2df.pkl')"
   ]
  },
  {
   "cell_type": "code",
   "execution_count": 28,
   "id": "a42605ed",
   "metadata": {},
   "outputs": [],
   "source": [
    "# Reset index\n",
    "plotlydash.reset_index(drop=True, inplace=True)\n",
    "\n",
    "# Drop unused columns for visualization to save memory \n",
    "plotlydash.drop(columns=['citeddoilist', 'authorslist'], inplace=True)"
   ]
  },
  {
   "cell_type": "code",
   "execution_count": 29,
   "id": "995dc069",
   "metadata": {},
   "outputs": [],
   "source": [
    "# get transformer from SBERT\n",
    "model = SentenceTransformer('all-mpnet-base-v2')"
   ]
  },
  {
   "cell_type": "code",
   "execution_count": 31,
   "id": "302b7a1f",
   "metadata": {},
   "outputs": [
    {
     "data": {
      "text/plain": [
       "\"\\n\\nsents1 = plotlydash['title'].iloc[0:70673]\\nsents2 = plotlydash['title'].iloc[70673:]\\n\\nsentence_embeddings = np.array([]).reshape(0, 768) # BERT vectorizes to 768 dimensions\\nfor i in sents1:\\n    embedding = model.encode([i])\\n    sentence_embeddings = np.concatenate([sentence_embeddings, embedding])\\n\""
      ]
     },
     "execution_count": 31,
     "metadata": {},
     "output_type": "execute_result"
    }
   ],
   "source": [
    "# Sentence Embedding # Warning: this takes a long time\n",
    "'''\n",
    "\n",
    "sents1 = plotlydash['title'].iloc[0:70673]\n",
    "sents2 = plotlydash['title'].iloc[70673:]\n",
    "\n",
    "sentence_embeddings = np.array([]).reshape(0, 768) # BERT vectorizes to 768 dimensions\n",
    "for i in sents1:\n",
    "    embedding = model.encode([i])\n",
    "    sentence_embeddings = np.concatenate([sentence_embeddings, embedding])\n",
    "'''"
   ]
  },
  {
   "cell_type": "code",
   "execution_count": 32,
   "id": "e2f6cf08",
   "metadata": {},
   "outputs": [
    {
     "data": {
      "text/plain": [
       "'for i in sents2:\\n    embedding = model.encode([i])\\n    sentence_embeddings = np.concatenate([sentence_embeddings, embedding])\\n'"
      ]
     },
     "execution_count": 32,
     "metadata": {},
     "output_type": "execute_result"
    }
   ],
   "source": [
    "'''for i in sents2:\n",
    "    embedding = model.encode([i])\n",
    "    sentence_embeddings = np.concatenate([sentence_embeddings, embedding])\n",
    "'''"
   ]
  },
  {
   "cell_type": "code",
   "execution_count": 33,
   "id": "398a66c3",
   "metadata": {},
   "outputs": [],
   "source": [
    "#sentence_embeddings.shape"
   ]
  },
  {
   "cell_type": "code",
   "execution_count": 34,
   "id": "d6470d83",
   "metadata": {},
   "outputs": [
    {
     "data": {
      "text/plain": [
       "\"\\nnp.save('sentence_embeddings', sentence_embeddings)\\n\""
      ]
     },
     "execution_count": 34,
     "metadata": {},
     "output_type": "execute_result"
    }
   ],
   "source": [
    "# Save sentence embeddings to file\n",
    "'''\n",
    "np.save('sentence_embeddings', sentence_embeddings)\n",
    "'''"
   ]
  },
  {
   "cell_type": "code",
   "execution_count": 35,
   "id": "80db5ea4",
   "metadata": {},
   "outputs": [],
   "source": [
    "sentence_embeddings = np.load('sentence_embeddings.npy')"
   ]
  },
  {
   "cell_type": "code",
   "execution_count": 36,
   "id": "71e7332e",
   "metadata": {},
   "outputs": [],
   "source": [
    "# calc similarities by finding cosine angle between two vectorized sentences\n",
    "# the smaller the angle, the more relavent, the higher the score\n",
    "def sbert(articlenumber, sbertterm):\n",
    "    score = cosine_similarity([sentence_embeddings[articlenumber],sbertterm])[0]\n",
    "    return score\n",
    "\n",
    "# get similarity scores between one sentence/article/term and ALL the articles\n",
    "def sbertscorer(userinput):\n",
    "    term = model.encode(userinput)\n",
    "    scores = []\n",
    "    for i in range(len(sentence_embeddings)):\n",
    "        scores.append(sbert(i, term)[1])\n",
    "    plotlydash['scores'] = scores\n",
    "    \n",
    "# Set default scores to 'lung cancer'\n",
    "userinputterm = 'lung cancer'"
   ]
  },
  {
   "cell_type": "code",
   "execution_count": 37,
   "id": "45fe34ab",
   "metadata": {},
   "outputs": [],
   "source": [
    "sbertscorer(userinputterm)"
   ]
  },
  {
   "cell_type": "code",
   "execution_count": 38,
   "id": "19dc9244",
   "metadata": {},
   "outputs": [],
   "source": [
    "plotlydash = plotlydash[['title', 'abstract', 'date', 'publicationtype', 'free', 'citednumber', 'scores', 'link']]"
   ]
  },
  {
   "cell_type": "code",
   "execution_count": 39,
   "id": "195a267d",
   "metadata": {},
   "outputs": [],
   "source": [
    "# Save final df for plotly dash\n",
    "plotlydash.to_csv('plotlydash.csv')"
   ]
  },
  {
   "cell_type": "code",
   "execution_count": 40,
   "id": "5e60ea28",
   "metadata": {},
   "outputs": [
    {
     "data": {
      "text/html": [
       "<div>\n",
       "<style scoped>\n",
       "    .dataframe tbody tr th:only-of-type {\n",
       "        vertical-align: middle;\n",
       "    }\n",
       "\n",
       "    .dataframe tbody tr th {\n",
       "        vertical-align: top;\n",
       "    }\n",
       "\n",
       "    .dataframe thead th {\n",
       "        text-align: right;\n",
       "    }\n",
       "</style>\n",
       "<table border=\"1\" class=\"dataframe\">\n",
       "  <thead>\n",
       "    <tr style=\"text-align: right;\">\n",
       "      <th></th>\n",
       "      <th>title</th>\n",
       "      <th>abstract</th>\n",
       "      <th>date</th>\n",
       "      <th>publicationtype</th>\n",
       "      <th>free</th>\n",
       "      <th>citednumber</th>\n",
       "      <th>scores</th>\n",
       "      <th>link</th>\n",
       "    </tr>\n",
       "  </thead>\n",
       "  <tbody>\n",
       "    <tr>\n",
       "      <th>0</th>\n",
       "      <td>Immunotherapy in nonsmall-cell lung cancer: cu...</td>\n",
       "      <td>Immunotherapy has been one of the great advanc...</td>\n",
       "      <td>2021-05-01</td>\n",
       "      <td>Review</td>\n",
       "      <td>Paid</td>\n",
       "      <td>2</td>\n",
       "      <td>0.378918</td>\n",
       "      <td>https://pubmed.ncbi.nlm.nih.gov/33113004/</td>\n",
       "    </tr>\n",
       "    <tr>\n",
       "      <th>1</th>\n",
       "      <td>Lung cancer</td>\n",
       "      <td>Lung cancer is one of the most frequently diag...</td>\n",
       "      <td>2021-08-01</td>\n",
       "      <td>Review</td>\n",
       "      <td>Paid</td>\n",
       "      <td>0</td>\n",
       "      <td>1.000000</td>\n",
       "      <td>https://pubmed.ncbi.nlm.nih.gov/34273294/</td>\n",
       "    </tr>\n",
       "    <tr>\n",
       "      <th>2</th>\n",
       "      <td>Comparative analysis of the tumor immune-micro...</td>\n",
       "      <td>To evaluate the characteristics of the tumor i...</td>\n",
       "      <td>2021-07-01</td>\n",
       "      <td>Comparative Study</td>\n",
       "      <td>Paid</td>\n",
       "      <td>1</td>\n",
       "      <td>0.301354</td>\n",
       "      <td>https://pubmed.ncbi.nlm.nih.gov/33420630/</td>\n",
       "    </tr>\n",
       "    <tr>\n",
       "      <th>3</th>\n",
       "      <td>Economic analyses of immune-checkpoint inhibit...</td>\n",
       "      <td>Total lung-cancer-management costs are increas...</td>\n",
       "      <td>2021-06-01</td>\n",
       "      <td>Review</td>\n",
       "      <td>Paid</td>\n",
       "      <td>0</td>\n",
       "      <td>0.361602</td>\n",
       "      <td>https://pubmed.ncbi.nlm.nih.gov/33306411/</td>\n",
       "    </tr>\n",
       "    <tr>\n",
       "      <th>4</th>\n",
       "      <td>Organized Lung Cancer Screening Pilot: Informi...</td>\n",
       "      <td>Lung cancer is the leading cause of cancer dea...</td>\n",
       "      <td>2021-06-01</td>\n",
       "      <td>Article</td>\n",
       "      <td>Paid</td>\n",
       "      <td>3</td>\n",
       "      <td>0.501801</td>\n",
       "      <td>https://pubmed.ncbi.nlm.nih.gov/33039364/</td>\n",
       "    </tr>\n",
       "    <tr>\n",
       "      <th>...</th>\n",
       "      <td>...</td>\n",
       "      <td>...</td>\n",
       "      <td>...</td>\n",
       "      <td>...</td>\n",
       "      <td>...</td>\n",
       "      <td>...</td>\n",
       "      <td>...</td>\n",
       "      <td>...</td>\n",
       "    </tr>\n",
       "    <tr>\n",
       "      <th>141342</th>\n",
       "      <td>Synthesis of a covalent gemcitabine-(carbamate...</td>\n",
       "      <td>Gemcitabine is a potent chemotherapeutic that ...</td>\n",
       "      <td>2011-01-01</td>\n",
       "      <td>Article</td>\n",
       "      <td>Paid</td>\n",
       "      <td>13</td>\n",
       "      <td>0.122529</td>\n",
       "      <td>https://pubmed.ncbi.nlm.nih.gov/21169024/</td>\n",
       "    </tr>\n",
       "    <tr>\n",
       "      <th>141343</th>\n",
       "      <td>Comparison of scatter rejection and low-contra...</td>\n",
       "      <td>To investigate and compare the scatter rejecti...</td>\n",
       "      <td>2011-01-01</td>\n",
       "      <td>Comparative Study</td>\n",
       "      <td>Free</td>\n",
       "      <td>2</td>\n",
       "      <td>0.142462</td>\n",
       "      <td>https://pubmed.ncbi.nlm.nih.gov/21361171/</td>\n",
       "    </tr>\n",
       "    <tr>\n",
       "      <th>141344</th>\n",
       "      <td>Analysis of acrolein-derived 1,N2-propanodeoxy...</td>\n",
       "      <td>(6R/S)-3-(2'-deoxyribos-1'-yl)-5,6,7,8-tetrahy...</td>\n",
       "      <td>2011-01-01</td>\n",
       "      <td>Article</td>\n",
       "      <td>Free</td>\n",
       "      <td>21</td>\n",
       "      <td>0.275874</td>\n",
       "      <td>https://pubmed.ncbi.nlm.nih.gov/21090699/</td>\n",
       "    </tr>\n",
       "    <tr>\n",
       "      <th>141345</th>\n",
       "      <td>Heart disease and stroke statistics--2011 upda...</td>\n",
       "      <td>Each year, the American Heart Association (AHA...</td>\n",
       "      <td>2011-02-01</td>\n",
       "      <td>Article</td>\n",
       "      <td>Free</td>\n",
       "      <td>1808</td>\n",
       "      <td>0.260897</td>\n",
       "      <td>https://pubmed.ncbi.nlm.nih.gov/21160056/</td>\n",
       "    </tr>\n",
       "    <tr>\n",
       "      <th>141346</th>\n",
       "      <td>Diabetes mellitus, fasting glucose, and risk o...</td>\n",
       "      <td>The extent to which diabetes mellitus or hyper...</td>\n",
       "      <td>2011-03-01</td>\n",
       "      <td>Article</td>\n",
       "      <td>Free</td>\n",
       "      <td>793</td>\n",
       "      <td>0.134064</td>\n",
       "      <td>https://pubmed.ncbi.nlm.nih.gov/21366474/</td>\n",
       "    </tr>\n",
       "  </tbody>\n",
       "</table>\n",
       "<p>141347 rows × 8 columns</p>\n",
       "</div>"
      ],
      "text/plain": [
       "                                                    title  \\\n",
       "0       Immunotherapy in nonsmall-cell lung cancer: cu...   \n",
       "1                                             Lung cancer   \n",
       "2       Comparative analysis of the tumor immune-micro...   \n",
       "3       Economic analyses of immune-checkpoint inhibit...   \n",
       "4       Organized Lung Cancer Screening Pilot: Informi...   \n",
       "...                                                   ...   \n",
       "141342  Synthesis of a covalent gemcitabine-(carbamate...   \n",
       "141343  Comparison of scatter rejection and low-contra...   \n",
       "141344  Analysis of acrolein-derived 1,N2-propanodeoxy...   \n",
       "141345  Heart disease and stroke statistics--2011 upda...   \n",
       "141346  Diabetes mellitus, fasting glucose, and risk o...   \n",
       "\n",
       "                                                 abstract       date  \\\n",
       "0       Immunotherapy has been one of the great advanc... 2021-05-01   \n",
       "1       Lung cancer is one of the most frequently diag... 2021-08-01   \n",
       "2       To evaluate the characteristics of the tumor i... 2021-07-01   \n",
       "3       Total lung-cancer-management costs are increas... 2021-06-01   \n",
       "4       Lung cancer is the leading cause of cancer dea... 2021-06-01   \n",
       "...                                                   ...        ...   \n",
       "141342  Gemcitabine is a potent chemotherapeutic that ... 2011-01-01   \n",
       "141343  To investigate and compare the scatter rejecti... 2011-01-01   \n",
       "141344  (6R/S)-3-(2'-deoxyribos-1'-yl)-5,6,7,8-tetrahy... 2011-01-01   \n",
       "141345  Each year, the American Heart Association (AHA... 2011-02-01   \n",
       "141346  The extent to which diabetes mellitus or hyper... 2011-03-01   \n",
       "\n",
       "          publicationtype  free  citednumber    scores  \\\n",
       "0                  Review  Paid            2  0.378918   \n",
       "1                  Review  Paid            0  1.000000   \n",
       "2       Comparative Study  Paid            1  0.301354   \n",
       "3                  Review  Paid            0  0.361602   \n",
       "4                 Article  Paid            3  0.501801   \n",
       "...                   ...   ...          ...       ...   \n",
       "141342            Article  Paid           13  0.122529   \n",
       "141343  Comparative Study  Free            2  0.142462   \n",
       "141344            Article  Free           21  0.275874   \n",
       "141345            Article  Free         1808  0.260897   \n",
       "141346            Article  Free          793  0.134064   \n",
       "\n",
       "                                             link  \n",
       "0       https://pubmed.ncbi.nlm.nih.gov/33113004/  \n",
       "1       https://pubmed.ncbi.nlm.nih.gov/34273294/  \n",
       "2       https://pubmed.ncbi.nlm.nih.gov/33420630/  \n",
       "3       https://pubmed.ncbi.nlm.nih.gov/33306411/  \n",
       "4       https://pubmed.ncbi.nlm.nih.gov/33039364/  \n",
       "...                                           ...  \n",
       "141342  https://pubmed.ncbi.nlm.nih.gov/21169024/  \n",
       "141343  https://pubmed.ncbi.nlm.nih.gov/21361171/  \n",
       "141344  https://pubmed.ncbi.nlm.nih.gov/21090699/  \n",
       "141345  https://pubmed.ncbi.nlm.nih.gov/21160056/  \n",
       "141346  https://pubmed.ncbi.nlm.nih.gov/21366474/  \n",
       "\n",
       "[141347 rows x 8 columns]"
      ]
     },
     "execution_count": 40,
     "metadata": {},
     "output_type": "execute_result"
    }
   ],
   "source": [
    "plotlydash"
   ]
  }
 ],
 "metadata": {
  "kernelspec": {
   "display_name": "Python 3",
   "language": "python",
   "name": "python3"
  },
  "language_info": {
   "codemirror_mode": {
    "name": "ipython",
    "version": 3
   },
   "file_extension": ".py",
   "mimetype": "text/x-python",
   "name": "python",
   "nbconvert_exporter": "python",
   "pygments_lexer": "ipython3",
   "version": "3.8.8"
  }
 },
 "nbformat": 4,
 "nbformat_minor": 5
}
